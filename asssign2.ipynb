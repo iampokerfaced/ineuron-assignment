{
 "cells": [
  {
   "cell_type": "code",
   "execution_count": 11,
   "metadata": {},
   "outputs": [
    {
     "name": "stdout",
     "output_type": "stream",
     "text": [
      "The summation of all elements in list is 83 and the largest number among them is 17\n"
     ]
    }
   ],
   "source": [
    "'''task 1.1 Write a Python Program to implement your own myreduce() function which works exactly like\n",
    "Python's built-in function reduce()'''\n",
    "\n",
    "def myreduce(fun, seq):  # defining own reduce function with two arguments\n",
    "    output = seq[0]\n",
    "    for i in seq[1:]:    \n",
    "        output = fun(output, i)\n",
    "    return output\n",
    "\n",
    "l = [1,4,9,16,7,11,17,5,13]\n",
    "a = myreduce(lambda x,y: x+y ,l)\n",
    "b = myreduce(lambda a,b : a if a > b else b,l)\n",
    "print(\"The summation of all elements in list is {} and the largest number among them is {}\".format(a,b))"
   ]
  },
  {
   "cell_type": "code",
   "execution_count": 15,
   "metadata": {},
   "outputs": [
    {
     "data": {
      "text/plain": [
       "[16, 11, 17, 13]"
      ]
     },
     "execution_count": 15,
     "metadata": {},
     "output_type": "execute_result"
    }
   ],
   "source": [
    "'''Write a Python program to implement your own myfilter() function which works exactly like\n",
    "Python's built-in function filter()'''\n",
    "def myfilter(fun, seq):\n",
    "    output = []\n",
    "    for i in seq:\n",
    "          if fun(i):\n",
    "                output.append(i)\n",
    "    return output\n",
    "l = [1,4,9,16,7,11,17,5,13]\n",
    "myfilter(lambda x: True if x > 10 else False, l)"
   ]
  },
  {
   "cell_type": "code",
   "execution_count": 62,
   "metadata": {},
   "outputs": [
    {
     "name": "stdout",
     "output_type": "stream",
     "text": [
      " ['A', 'C', 'A', 'D', 'G', 'I', 'L', 'D']\n",
      " ['x', 'xx', 'xxx', 'y', 'yy', 'yyy', 'z', 'zz', 'zzz']\n",
      " ['x', 'y', 'z', 'xx', 'yy', 'zz', 'xx', 'yy', 'zz', 'xxxx', 'yyyy', 'zzzz']\n",
      " [[2], [3], [4], [3], [4], [5], [4], [5], [6]]\n",
      " [[2, 3, 4, 5], [3, 4, 5, 6], [4, 5, 6, 7], [5, 6, 7, 8]]\n",
      " [(1, 1), (2, 1), (3, 1), (1, 2), (2, 2), (3, 2), (1, 3), (2, 3), (3, 3)]\n",
      "\n"
     ]
    }
   ],
   "source": [
    "'''Implement List comprehensions to produce the following lists.'''\n",
    "w1 = 'ACADGILD'\n",
    "op1 = [letter for letter in w1]\n",
    "\n",
    "w2 = ['x','y','z']\n",
    "op2 = [i*num for i in w2 for num in range(1,4)]\n",
    "op3 = [k*j*i for i in range(1,3) for j in range(1,3) for k in w2]\n",
    "\n",
    "# to print [[2], [3], [4], [3], [4], [5], [4], [5], [6]]\n",
    "op4 = [[i+j] for i in range(3) for j in range(2,5)]\n",
    "\n",
    "w3 = [2,3,4,5]\n",
    "op5 = [[x+j for j in range(4)] for x in w3]\n",
    "\n",
    "# to print [(1, 1), (2, 1), (3, 1), (1, 2), (2, 2), (3, 2), (1, 3), (2, 3), (3, 3)]\n",
    "op6 = [(i,j) for j in range(1,4) for i in range(1,4)]\n",
    "\n",
    "print(\" {}\\n {}\\n {}\\n {}\\n {}\\n {}\\n\".format(op1, op2, op3, op4, op5, op6))"
   ]
  },
  {
   "cell_type": "code",
   "execution_count": 77,
   "metadata": {},
   "outputs": [
    {
     "name": "stdout",
     "output_type": "stream",
     "text": [
      "bhawaniprasad\n"
     ]
    }
   ],
   "source": [
    "'''Implement a function longestWord() that takes a list of words and returns the longest one'''\n",
    "def longestWord(words_list):\n",
    "    word_len = []\n",
    "    for n in words_list:\n",
    "        word_len.append((len(n), n))\n",
    "    word_len.sort()\n",
    "    return word_len[-1][1]\n",
    "\n",
    "print(longestWord([\"PHP\", \"Exercises\", \"Backend\",\"bhawaniprasad\"]))"
   ]
  },
  {
   "cell_type": "code",
   "execution_count": 25,
   "metadata": {},
   "outputs": [
    {
     "name": "stdout",
     "output_type": "stream",
     "text": [
      "Enter the value of a = 4\n",
      "Enter the value of b = 5\n",
      "Enter the value of c = 6\n",
      "area : 9.92\n"
     ]
    }
   ],
   "source": [
    "'''task 2.1 Write a Python Program(with class concepts) to find the area of the triangle using the below\n",
    "formula.\n",
    "area = (s*(s-a)*(s-b)*(s-c)) ** 0.5\n",
    "Function to take the length of the sides of triangle from user should be defined in the parent\n",
    "class and function to calculate the area should be defined in subclass.'''\n",
    "class Triangle:\n",
    "    def __init__(self,a,b,c):\n",
    "        self.a = float(a)\n",
    "        self.b = float(b)\n",
    "        self.c = float(c)\n",
    "    def area(self):\n",
    "        s = (self.a + self.b + self.c)/2\n",
    "        return((s*(s-self.a)*(s-self.b)*(s-self.c))**0.5)\n",
    "a=input(\"Enter the value of a = \")\n",
    "b=input(\"Enter the value of b = \")\n",
    "c=input(\"Enter the value of c = \")\n",
    "t = Triangle(a, b, c)\n",
    "print(\"area : %.2f\"%(t.area()))\n"
   ]
  },
  {
   "cell_type": "markdown",
   "metadata": {},
   "source": [
    "Task 2.2 Write a function filter_long_words() that takes a list of words and an integer n and returns the list\n",
    "of words that are longer than n."
   ]
  },
  {
   "cell_type": "code",
   "execution_count": 14,
   "metadata": {},
   "outputs": [
    {
     "name": "stdout",
     "output_type": "stream",
     "text": [
      "Enter a list of words: \n",
      "ki sm at ghimire ghimire try except catch\n",
      "Enter the integer value to filter words: \n",
      "4\n",
      "['ghimire', 'ghimire', 'except', 'catch']\n"
     ]
    }
   ],
   "source": [
    "def filter_long_words(list_of_words, n):  \n",
    "    word_len = []  \n",
    "    txt = list_of_words.split(\" \")  \n",
    "    for x in txt:  \n",
    "        if len(x) > n:  \n",
    "            word_len.append(x)  \n",
    "    print( word_len) \n",
    "print(\"Enter a list of words: \")\n",
    "words = input()\n",
    "print(\"Enter the integer value to filter words: \")\n",
    "number = int(input())\n",
    "filter_long_words(words, number)\n"
   ]
  },
  {
   "cell_type": "markdown",
   "metadata": {},
   "source": [
    "Task 2.2: Write a Python program using function concept that maps list of words into a list of integers\n",
    "representing the lengths of the corresponding words."
   ]
  },
  {
   "cell_type": "code",
   "execution_count": 15,
   "metadata": {},
   "outputs": [
    {
     "data": {
      "text/plain": [
       "[2, 5, 4, 6]"
      ]
     },
     "execution_count": 15,
     "metadata": {},
     "output_type": "execute_result"
    }
   ],
   "source": [
    "def map_list(words):\n",
    "    lengths = []\n",
    "    for word in words:\n",
    "        lengths.append(len(word))\n",
    "    return lengths\n",
    "words = ['ab', 'check', 'test','verify']\n",
    "map_list(words)"
   ]
  },
  {
   "cell_type": "markdown",
   "metadata": {},
   "source": [
    "Task 2.3 Write a Python function which takes a character (i.e. a string of length 1) and returns True if it is\n",
    "a vowel, False otherwise."
   ]
  },
  {
   "cell_type": "code",
   "execution_count": 21,
   "metadata": {},
   "outputs": [
    {
     "name": "stdout",
     "output_type": "stream",
     "text": [
      "Enter a character: \n",
      "A\n"
     ]
    },
    {
     "data": {
      "text/plain": [
       "True"
      ]
     },
     "execution_count": 21,
     "metadata": {},
     "output_type": "execute_result"
    }
   ],
   "source": [
    "def is_vowel(char):\n",
    "    vowels = ('a', 'e', 'i', 'o', 'u')\n",
    "    if char.lower() not in vowels:\n",
    "        return False\n",
    "    return True\n",
    "print(\"Enter a character: \")\n",
    "c = input()\n",
    "is_vowel(c)"
   ]
  },
  {
   "cell_type": "code",
   "execution_count": null,
   "metadata": {},
   "outputs": [],
   "source": []
  }
 ],
 "metadata": {
  "kernelspec": {
   "display_name": "Python 3",
   "language": "python",
   "name": "python3"
  },
  "language_info": {
   "codemirror_mode": {
    "name": "ipython",
    "version": 3
   },
   "file_extension": ".py",
   "mimetype": "text/x-python",
   "name": "python",
   "nbconvert_exporter": "python",
   "pygments_lexer": "ipython3",
   "version": "3.7.4"
  }
 },
 "nbformat": 4,
 "nbformat_minor": 2
}
